{
 "metadata": {
  "name": "",
  "signature": "sha256:bdd658bbbfd9a3656ceae85e57dbd1f8252a3aec1aaf0e46d166e2e655b59a73"
 },
 "nbformat": 3,
 "nbformat_minor": 0,
 "worksheets": [
  {
   "cells": [
    {
     "cell_type": "code",
     "collapsed": false,
     "input": [
      "import skimage as ski\n",
      "import matplotlib.pyplot as plt"
     ],
     "language": "python",
     "metadata": {},
     "outputs": [],
     "prompt_number": 6
    },
    {
     "cell_type": "code",
     "collapsed": false,
     "input": [
      "from skimage.data import camera\n",
      "from skimage.filter import roberts, sobel\n",
      "\n",
      "skimage.data.imread\n",
      "\n",
      "\n",
      "image = camera()\n",
      "edge_roberts = roberts(image)\n",
      "edge_sobel = sobel(image)\n",
      "\n",
      "fig, (ax0, ax1) = plt.subplots(ncols=2)\n",
      "\n",
      "ax0.imshow(edge_roberts, cmap=plt.cm.gray)\n",
      "ax0.set_title('Roberts Edge Detection')\n",
      "ax0.axis('off')\n",
      "\n",
      "ax1.imshow(edge_sobel, cmap=plt.cm.gray)\n",
      "ax1.set_title('Sobel Edge Detection')\n",
      "ax1.axis('off')\n",
      "\n",
      "plt.show()"
     ],
     "language": "python",
     "metadata": {},
     "outputs": []
    }
   ],
   "metadata": {}
  }
 ]
}