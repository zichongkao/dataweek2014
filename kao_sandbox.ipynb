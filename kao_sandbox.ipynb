{
 "metadata": {
  "name": "",
  "signature": "sha256:a817340015d9befc56ab21f81cc0d89fda6aaa30d01437464e2655a30d151f97"
 },
 "nbformat": 3,
 "nbformat_minor": 0,
 "worksheets": [
  {
   "cells": [
    {
     "cell_type": "code",
     "collapsed": false,
     "input": [
      "from skimage import io, filter, data\n",
      "import matplotlib.pyplot as plt\n",
      "from PIL import Image\n",
      "import numpy as np"
     ],
     "language": "python",
     "metadata": {},
     "outputs": [],
     "prompt_number": 1
    },
    {
     "cell_type": "code",
     "collapsed": false,
     "input": [
      "img1 = io.imread('timesq_imgs/Screen Shot 2014-09-13 at 2.27.29 PM.png')\n",
      "img2 = io.imread('timesq_imgs/Screen Shot 2014-09-13 at 2.27.30 PM.png')\n",
      "img3 = io.imread('timesq_imgs/Screen Shot 2014-09-13 at 2.27.31 PM.png')\n"
     ],
     "language": "python",
     "metadata": {},
     "outputs": [],
     "prompt_number": 2
    },
    {
     "cell_type": "code",
     "collapsed": false,
     "input": [
      "img1.dim()"
     ],
     "language": "python",
     "metadata": {},
     "outputs": [
      {
       "ename": "AttributeError",
       "evalue": "'numpy.ndarray' object has no attribute 'dim'",
       "output_type": "pyerr",
       "traceback": [
        "\u001b[0;31m---------------------------------------------------------------------------\u001b[0m\n\u001b[0;31mAttributeError\u001b[0m                            Traceback (most recent call last)",
        "\u001b[0;32m<ipython-input-7-505bc7cc5f50>\u001b[0m in \u001b[0;36m<module>\u001b[0;34m()\u001b[0m\n\u001b[0;32m----> 1\u001b[0;31m \u001b[0mimg1\u001b[0m\u001b[0;34m.\u001b[0m\u001b[0mdim\u001b[0m\u001b[0;34m(\u001b[0m\u001b[0;34m)\u001b[0m\u001b[0;34m\u001b[0m\u001b[0m\n\u001b[0m",
        "\u001b[0;31mAttributeError\u001b[0m: 'numpy.ndarray' object has no attribute 'dim'"
       ]
      }
     ],
     "prompt_number": 7
    },
    {
     "cell_type": "code",
     "collapsed": false,
     "input": [
      "edge_roberts = filter.canny(r)\n",
      "#edge_sobel = filter.sobel(img1)"
     ],
     "language": "python",
     "metadata": {},
     "outputs": [],
     "prompt_number": 14
    },
    {
     "cell_type": "code",
     "collapsed": false,
     "input": [
      "fig, (ax0,ax1) = plt.subplots(ncols=2)\n",
      "\n",
      "ax0.imshow(r, cmap=plt.cm.gray)\n",
      "ax0.set_title('Roberts Edge Detection')\n",
      "ax0.axis('off')\n",
      "\n",
      "ax1.imshow(edge_roberts, cmap=plt.cm.gray)\n",
      "ax1.set_title('Sobel Edge Detection')\n",
      "ax1.axis('off')\n",
      "\n",
      "plt.show()"
     ],
     "language": "python",
     "metadata": {},
     "outputs": [],
     "prompt_number": 15
    },
    {
     "cell_type": "code",
     "collapsed": false,
     "input": [
      "k = filter.denoise_bilateral(img3)\n",
      "ax1.imshow(k)\n"
     ],
     "language": "python",
     "metadata": {},
     "outputs": [
      {
       "output_type": "stream",
       "stream": "stderr",
       "text": [
        "/Library/Python/2.7/site-packages/skimage/restoration/_denoise.py:9: skimage_deprecation: Call to deprecated function ``denoise_bilateral``. Use ``skimage.restoration.denoise_bilateral`` instead.\n",
        "  bins=10000, mode='constant', cval=0):\n"
       ]
      }
     ],
     "prompt_number": 16
    },
    {
     "cell_type": "code",
     "collapsed": false,
     "input": [
      "img1"
     ],
     "language": "python",
     "metadata": {},
     "outputs": [
      {
       "metadata": {},
       "output_type": "pyout",
       "prompt_number": 6,
       "text": [
        "array([[[244, 244, 244],\n",
        "        [243, 243, 243],\n",
        "        [243, 243, 243],\n",
        "        ..., \n",
        "        [242, 242, 242],\n",
        "        [242, 242, 242],\n",
        "        [242, 242, 242]],\n",
        "\n",
        "       [[230, 230, 230],\n",
        "        [230, 230, 230],\n",
        "        [229, 229, 229],\n",
        "        ..., \n",
        "        [228, 228, 228],\n",
        "        [228, 228, 228],\n",
        "        [227, 227, 227]],\n",
        "\n",
        "       [[228, 228, 228],\n",
        "        [228, 228, 228],\n",
        "        [227, 227, 227],\n",
        "        ..., \n",
        "        [226, 226, 226],\n",
        "        [226, 226, 226],\n",
        "        [225, 225, 225]],\n",
        "\n",
        "       ..., \n",
        "       [[ 47,  47,  47],\n",
        "        [ 49,  49,  49],\n",
        "        [ 44,  44,  44],\n",
        "        ..., \n",
        "        [ 28,  28,  28],\n",
        "        [ 27,  27,  27],\n",
        "        [ 26,  26,  26]],\n",
        "\n",
        "       [[ 47,  47,  47],\n",
        "        [ 47,  47,  47],\n",
        "        [ 44,  44,  44],\n",
        "        ..., \n",
        "        [ 28,  28,  28],\n",
        "        [ 28,  28,  28],\n",
        "        [ 28,  28,  28]],\n",
        "\n",
        "       [[ 47,  47,  47],\n",
        "        [ 47,  47,  47],\n",
        "        [ 45,  45,  45],\n",
        "        ..., \n",
        "        [ 28,  28,  28],\n",
        "        [ 28,  28,  28],\n",
        "        [ 28,  28,  28]]], dtype=uint8)"
       ]
      }
     ],
     "prompt_number": 6
    },
    {
     "cell_type": "code",
     "collapsed": false,
     "input": [
      "def twodmap(function, array):\n",
      "    return np.array([map(function, row) for row in array]).astype('uint8')"
     ],
     "language": "python",
     "metadata": {},
     "outputs": [],
     "prompt_number": 3
    },
    {
     "cell_type": "code",
     "collapsed": false,
     "input": [
      "r = twodmap(lambda x: x[0], img1)\n"
     ],
     "language": "python",
     "metadata": {},
     "outputs": [],
     "prompt_number": 4
    },
    {
     "cell_type": "code",
     "collapsed": false,
     "input": [
      "g = twodmap(lambda x: x[1], img1)"
     ],
     "language": "python",
     "metadata": {},
     "outputs": [],
     "prompt_number": 15
    },
    {
     "cell_type": "code",
     "collapsed": false,
     "input": [
      "result = twodmap(lambda x: np.abs(np.min(x)) ,img1-img2)"
     ],
     "language": "python",
     "metadata": {},
     "outputs": [],
     "prompt_number": 11
    },
    {
     "cell_type": "code",
     "collapsed": false,
     "input": [],
     "language": "python",
     "metadata": {},
     "outputs": []
    }
   ],
   "metadata": {}
  }
 ]
}