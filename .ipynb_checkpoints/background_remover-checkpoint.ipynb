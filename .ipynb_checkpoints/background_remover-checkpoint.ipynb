{
 "metadata": {
  "name": "",
  "signature": "sha256:3cafdab8e4a20dd655708e094a6d6fae9d6fe73b2989f517b8e30af3f660df8f"
 },
 "nbformat": 3,
 "nbformat_minor": 0,
 "worksheets": [
  {
   "cells": [
    {
     "cell_type": "code",
     "collapsed": false,
     "input": [
      "import numpy as np\n",
      "import cv2\n",
      "from skimage import measure\n",
      "from collections import Counter\n",
      "from collections import deque"
     ],
     "language": "python",
     "metadata": {},
     "outputs": [],
     "prompt_number": 42
    },
    {
     "cell_type": "code",
     "collapsed": false,
     "input": [
      "def capture_masks(video_clip, count=5, show_vid=False, verbose=True):\n",
      "    assert count != 0, 'Must capture at least 1 mask'\n",
      "    \n",
      "    cap = cv2.VideoCapture(video_clip)\n",
      "    if verbose:\n",
      "        print \"video access: complete\"\n",
      "    fgbg = cv2.BackgroundSubtractorMOG()\n",
      "    \n",
      "    mask_storage = deque(maxlen=count)\n",
      "    while(1):\n",
      "        ret, frame = cap.read()\n",
      "        if frame is None:\n",
      "            # video has ended\n",
      "            break\n",
      "        \n",
      "        fgmask = fgbg.apply(frame)\n",
      "        if len(mask_storage) == count:  # full\n",
      "            mask_storage.popleft()\n",
      "        mask_storage.append(fgmask)\n",
      "        \n",
      "        if show_vid:\n",
      "            cv2.imshow('frame', fgmask)\n",
      "            k = cv2.waitKey(30) & 0xff\n",
      "            if k == 27:  # esc to stop \n",
      "                break\n",
      "    \n",
      "    if verbose:\n",
      "        print \"video analysis: complete\"\n",
      "    cap.release()\n",
      "    cv2.destroyAllWindows()    \n",
      "    \n",
      "    result = list(mask_storage)\n",
      "    return result"
     ],
     "language": "python",
     "metadata": {},
     "outputs": [],
     "prompt_number": 43
    },
    {
     "cell_type": "code",
     "collapsed": false,
     "input": [
      "def v1_ppl_counter(mask, min_size, max_size):\n",
      "    labelled_mask = measure.label(mask)\n",
      "    sizer = Counter([item for row in labelled_mask for item in row])\n",
      "    result = 0\n",
      "    for blob_id, size in sizer.items():\n",
      "        if size >= min_size and size <= max_size:\n",
      "            result += 1\n",
      "    return result\n"
     ],
     "language": "python",
     "metadata": {},
     "outputs": [],
     "prompt_number": 44
    },
    {
     "cell_type": "code",
     "collapsed": false,
     "input": [
      "def agg_ppl_counter(masks, count_func, agg_func=np.mean):\n",
      "    return agg_func(map(count_func, list(masks)))"
     ],
     "language": "python",
     "metadata": {},
     "outputs": [],
     "prompt_number": 45
    },
    {
     "cell_type": "code",
     "collapsed": false,
     "input": [
      "masks = capture_masks('testclip2.mp4')\n",
      "count_func = lambda x: v1_ppl_counter(x, 20, 100)\n",
      "agg_ppl_counter(masks, count_func)"
     ],
     "language": "python",
     "metadata": {},
     "outputs": [
      {
       "output_type": "stream",
       "stream": "stdout",
       "text": [
        "video access: complete\n",
        "video analysis: complete"
       ]
      },
      {
       "output_type": "stream",
       "stream": "stdout",
       "text": [
        "\n"
       ]
      },
      {
       "metadata": {},
       "output_type": "pyout",
       "prompt_number": 46,
       "text": [
        "78.200000000000003"
       ]
      }
     ],
     "prompt_number": 46
    },
    {
     "cell_type": "code",
     "collapsed": false,
     "input": [],
     "language": "python",
     "metadata": {},
     "outputs": [
      {
       "metadata": {},
       "output_type": "pyout",
       "prompt_number": 15,
       "text": [
        "116"
       ]
      }
     ],
     "prompt_number": 15
    },
    {
     "cell_type": "code",
     "collapsed": false,
     "input": [],
     "language": "python",
     "metadata": {},
     "outputs": [],
     "prompt_number": 12
    },
    {
     "cell_type": "code",
     "collapsed": false,
     "input": [
      "Counter([item for row in L for item in row])\n"
     ],
     "language": "python",
     "metadata": {},
     "outputs": [
      {
       "metadata": {},
       "output_type": "pyout",
       "prompt_number": 14,
       "text": [
        "Counter({0: 390800, 3: 1841, 1: 1627, 18: 1057, 2: 1024, 292: 853, 435: 666, 123: 412, 4: 373, 302: 303, 58: 265, 301: 264, 67: 255, 460: 232, 214: 222, 110: 219, 351: 206, 85: 204, 458: 188, 158: 182, 285: 174, 206: 164, 205: 156, 379: 156, 157: 154, 442: 144, 312: 126, 225: 124, 250: 113, 253: 107, 235: 103, 280: 100, 340: 99, 236: 95, 268: 94, 433: 93, 443: 90, 142: 84, 200: 84, 234: 83, 40: 82, 450: 81, 464: 80, 404: 77, 447: 74, 174: 71, 265: 71, 229: 70, 208: 69, 290: 64, 136: 63, 293: 63, 271: 61, 281: 61, 164: 60, 278: 60, 159: 59, 192: 59, 291: 59, 230: 58, 258: 56, 288: 55, 428: 55, 102: 54, 466: 54, 287: 53, 184: 52, 75: 50, 128: 50, 188: 48, 424: 47, 262: 46, 359: 46, 386: 46, 32: 45, 248: 45, 54: 44, 330: 43, 425: 43, 273: 42, 459: 42, 78: 41, 176: 41, 286: 41, 309: 41, 337: 40, 104: 39, 131: 39, 323: 39, 365: 39, 125: 38, 370: 38, 388: 38, 191: 37, 20: 36, 173: 36, 244: 36, 220: 35, 401: 35, 427: 35, 165: 34, 216: 34, 350: 34, 120: 33, 238: 33, 430: 33, 108: 31, 267: 31, 397: 31, 17: 30, 31: 30, 72: 30, 194: 30, 215: 30, 384: 30, 272: 27, 395: 27, 21: 26, 223: 26, 396: 26, 162: 25, 177: 25, 407: 25, 434: 25, 204: 24, 349: 24, 99: 23, 148: 23, 231: 23, 339: 23, 440: 23, 24: 22, 144: 22, 147: 22, 254: 22, 335: 22, 418: 22, 446: 22, 28: 21, 145: 21, 277: 21, 284: 21, 390: 21, 196: 20, 332: 20, 366: 20, 432: 20, 42: 19, 118: 19, 199: 19, 210: 19, 13: 18, 50: 18, 201: 18, 243: 18, 255: 18, 261: 18, 276: 18, 380: 18, 389: 18, 410: 18, 27: 17, 30: 17, 92: 17, 113: 17, 139: 17, 141: 17, 211: 17, 259: 17, 295: 17, 326: 17, 408: 17, 61: 16, 107: 16, 146: 16, 156: 16, 171: 16, 245: 16, 270: 16, 300: 16, 346: 16, 357: 16, 405: 16, 74: 15, 79: 15, 84: 15, 132: 15, 149: 15, 242: 15, 313: 15, 398: 15, 431: 15, 15: 14, 112: 14, 133: 14, 314: 14, 413: 14, 35: 13, 39: 13, 283: 13, 342: 13, 409: 13, 62: 12, 217: 12, 256: 12, 298: 12, 344: 12, 376: 12, 12: 11, 46: 11, 121: 11, 183: 11, 334: 11, 415: 11, 429: 11, 453: 11, 44: 10, 49: 10, 76: 10, 115: 10, 143: 10, 160: 10, 222: 10, 275: 10, 341: 10, 56: 9, 98: 9, 109: 9, 111: 9, 168: 9, 169: 9, 198: 9, 207: 9, 279: 9, 310: 9, 347: 9, 353: 9, 355: 9, 378: 9, 399: 9, 402: 9, 412: 9, 455: 9, 10: 8, 16: 8, 36: 8, 47: 8, 82: 8, 180: 8, 181: 8, 186: 8, 197: 8, 233: 8, 237: 8, 305: 8, 348: 8, 417: 8, 33: 7, 43: 7, 170: 7, 189: 7, 195: 7, 202: 7, 203: 7, 219: 7, 241: 7, 246: 7, 363: 7, 441: 7, 461: 7, 6: 6, 8: 6, 11: 6, 93: 6, 106: 6, 154: 6, 155: 6, 172: 6, 190: 6, 209: 6, 232: 6, 257: 6, 264: 6, 304: 6, 319: 6, 324: 6, 327: 6, 364: 6, 382: 6, 467: 6, 22: 5, 52: 5, 57: 5, 64: 5, 71: 5, 103: 5, 137: 5, 193: 5, 221: 5, 226: 5, 249: 5, 269: 5, 274: 5, 307: 5, 325: 5, 333: 5, 354: 5, 362: 5, 406: 5, 420: 5, 423: 5, 19: 4, 29: 4, 34: 4, 45: 4, 68: 4, 69: 4, 73: 4, 101: 4, 119: 4, 124: 4, 130: 4, 135: 4, 150: 4, 161: 4, 167: 4, 187: 4, 212: 4, 240: 4, 294: 4, 308: 4, 318: 4, 331: 4, 367: 4, 369: 4, 375: 4, 391: 4, 400: 4, 414: 4, 419: 4, 421: 4, 422: 4, 426: 4, 437: 4, 444: 4, 445: 4, 463: 4, 23: 3, 25: 3, 26: 3, 41: 3, 48: 3, 55: 3, 70: 3, 88: 3, 90: 3, 97: 3, 105: 3, 151: 3, 153: 3, 166: 3, 178: 3, 182: 3, 213: 3, 218: 3, 227: 3, 251: 3, 260: 3, 303: 3, 316: 3, 322: 3, 329: 3, 352: 3, 368: 3, 372: 3, 373: 3, 403: 3, 436: 3, 438: 3, 454: 3, 9: 2, 38: 2, 51: 2, 53: 2, 59: 2, 63: 2, 77: 2, 95: 2, 96: 2, 116: 2, 117: 2, 127: 2, 129: 2, 134: 2, 138: 2, 175: 2, 185: 2, 224: 2, 228: 2, 282: 2, 289: 2, 338: 2, 343: 2, 356: 2, 360: 2, 377: 2, 381: 2, 387: 2, 394: 2, 411: 2, 416: 2, 451: 2, 452: 2, 462: 2, 5: 1, 7: 1, 14: 1, 37: 1, 60: 1, 65: 1, 66: 1, 80: 1, 81: 1, 83: 1, 86: 1, 87: 1, 89: 1, 91: 1, 94: 1, 100: 1, 114: 1, 122: 1, 126: 1, 140: 1, 152: 1, 163: 1, 179: 1, 239: 1, 247: 1, 252: 1, 263: 1, 266: 1, 296: 1, 297: 1, 299: 1, 306: 1, 311: 1, 315: 1, 317: 1, 320: 1, 321: 1, 328: 1, 336: 1, 345: 1, 358: 1, 361: 1, 371: 1, 374: 1, 383: 1, 385: 1, 392: 1, 393: 1, 439: 1, 448: 1, 449: 1, 456: 1, 457: 1, 465: 1})"
       ]
      }
     ],
     "prompt_number": 14
    },
    {
     "cell_type": "code",
     "collapsed": false,
     "input": [
      "v1_ppl_counter(L, 20, 100)"
     ],
     "language": "python",
     "metadata": {},
     "outputs": []
    }
   ],
   "metadata": {}
  }
 ]
}